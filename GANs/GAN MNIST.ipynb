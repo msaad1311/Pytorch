{
 "cells": [
  {
   "cell_type": "code",
   "execution_count": 1,
   "metadata": {},
   "outputs": [],
   "source": [
    "import torch\n",
    "import torch.nn as nn\n",
    "from torch.utils.data import DataLoader\n",
    "import torch.nn.functional as F\n",
    "from torchvision.datasets import MNIST\n",
    "import torchvision.transforms as transforms\n",
    "import numpy as np\n",
    "import time"
   ]
  },
  {
   "cell_type": "code",
   "execution_count": 2,
   "metadata": {},
   "outputs": [
    {
     "name": "stdout",
     "output_type": "stream",
     "text": [
      "cuda\n"
     ]
    }
   ],
   "source": [
    "device = 'cuda' if torch.cuda.is_available() else 'cpu'\n",
    "print(device)"
   ]
  },
  {
   "cell_type": "code",
   "execution_count": 3,
   "metadata": {},
   "outputs": [],
   "source": [
    "transforms = transforms.Compose(\n",
    "[transforms.ToTensor(),transforms.Normalize((0.5,),(0.5,))]\n",
    ")\n",
    "trainset = MNIST('../MNIST/datasets/',train=True,transform=transforms,download=True)\n",
    "testset = MNIST('../MNIST/datasets/',train=False,transform=transforms,download=True)"
   ]
  },
  {
   "cell_type": "code",
   "execution_count": 4,
   "metadata": {},
   "outputs": [
    {
     "data": {
      "text/plain": [
       "Dataset MNIST\n",
       "    Number of datapoints: 60000\n",
       "    Root location: ../MNIST/datasets/\n",
       "    Split: Train\n",
       "    StandardTransform\n",
       "Transform: Compose(\n",
       "               ToTensor()\n",
       "               Normalize(mean=(0.5,), std=(0.5,))\n",
       "           )"
      ]
     },
     "execution_count": 4,
     "metadata": {},
     "output_type": "execute_result"
    }
   ],
   "source": [
    "trainset"
   ]
  },
  {
   "cell_type": "code",
   "execution_count": 5,
   "metadata": {},
   "outputs": [],
   "source": [
    "class Discrimator(nn.Module):\n",
    "    def __init__(self):\n",
    "        super(Discrimator,self).__init__()\n",
    "        self.conv1 = nn.Conv2d(in_channels=1,out_channels=8,kernel_size=(3,3),padding=(1,1))\n",
    "        self.pool = nn.MaxPool2d(kernel_size=(2,2),stride=(2,2))\n",
    "        self.conv2 = nn.Conv2d(in_channels=8,out_channels=16,kernel_size=(3,3),padding=(1,1))\n",
    "        self.fc = nn.Linear(16*7*7,1)\n",
    "    def forward(self,x):\n",
    "        x = F.leaky_relu(self.conv1(x))\n",
    "#         print(x.shape)\n",
    "        x = self.pool(x)\n",
    "#         print(x.shape)\n",
    "        x = F.leaky_relu(self.conv2(x))\n",
    "#         print(x.shape)\n",
    "        x = self.pool(x)\n",
    "#         print(x.shape)\n",
    "        x = x.reshape(x.shape[0],-1)\n",
    "        x = self.fc(x)\n",
    "#         print(x.shape)\n",
    "        x = torch.sigmoid(x)\n",
    "        return x\n",
    "    \n",
    "class Generator(nn.Module):\n",
    "    def __init__(self,z_dims):\n",
    "        super(Generator,self).__init__()\n",
    "        self.fc1 = nn.Linear(z_dims,196)\n",
    "        self.conv1 = nn.ConvTranspose2d(in_channels=1,out_channels=8,kernel_size=(2,2),stride=(2,2))\n",
    "        self.conv2 = nn.ConvTranspose2d(in_channels=8,out_channels=1,kernel_size=(1,1))\n",
    "        \n",
    "    def forward(self,x):\n",
    "        x = F.leaky_relu(self.fc1(x))\n",
    "#         print(x.shape)\n",
    "        x = x.reshape(x.shape[0],14,14)\n",
    "#         print(x.shape)\n",
    "        x = x.unsqueeze(1)\n",
    "#         print(x.shape)\n",
    "        x = F.leaky_relu(self.conv1(x))\n",
    "#         print(x.shape)\n",
    "        x = F.leaky_relu(self.conv2(x))\n",
    "#         print(x.shape)"
   ]
  },
  {
   "cell_type": "code",
   "execution_count": 9,
   "metadata": {
    "scrolled": true
   },
   "outputs": [],
   "source": [
    "dis = Discrimator().to(device)\n",
    "gen = Generator(64).to(device)\n",
    "# y = torch.rand(1,64).to(device)\n",
    "# model(y)"
   ]
  },
  {
   "cell_type": "code",
   "execution_count": 10,
   "metadata": {},
   "outputs": [],
   "source": [
    "trainloader = DataLoader(trainset,batch_size=64,shuffle=True,num_workers=5)\n",
    "opt_dis = torch.optim.Adam(dis.parameters(),lr=3e-4)\n",
    "opt_gen = torch.optim.Adam(gen.parameters(),lr=3e-4)\n",
    "criterion = nn.BCELoss()"
   ]
  },
  {
   "cell_type": "code",
   "execution_count": null,
   "metadata": {},
   "outputs": [],
   "source": [
    "for epoch in range(2):\n",
    "    for batch_idx, (real, _) in enumerate(trainloader):\n",
    "        batch_size = real.shape[0]\n",
    "\n",
    "        ### Train Discriminator: max log(D(x)) + log(1 - D(G(z)))\n",
    "        noise = torch.randn(batch_size, 64).to(device)\n",
    "        fake = gen(noise)\n",
    "        disc_real = disc(real).view(-1)\n",
    "        lossD_real = criterion(disc_real, torch.ones_like(disc_real))\n",
    "        disc_fake = disc(fake).view(-1)\n",
    "        lossD_fake = criterion(disc_fake, torch.zeros_like(disc_fake))\n",
    "        lossD = (lossD_real + lossD_fake) / 2\n",
    "        disc.zero_grad()\n",
    "        lossD.backward(retain_graph=True)\n",
    "        opt_disc.step()\n",
    "\n",
    "        ### Train Generator: min log(1 - D(G(z))) <-> max log(D(G(z))\n",
    "        # where the second option of maximizing doesn't suffer from\n",
    "        # saturating gradients\n",
    "        output = disc(fake).view(-1)\n",
    "        lossG = criterion(output, torch.ones_like(output))\n",
    "        gen.zero_grad()\n",
    "        lossG.backward()\n",
    "        opt_gen.step()\n"
   ]
  }
 ],
 "metadata": {
  "kernelspec": {
   "display_name": "Python 3",
   "language": "python",
   "name": "python3"
  },
  "language_info": {
   "codemirror_mode": {
    "name": "ipython",
    "version": 3
   },
   "file_extension": ".py",
   "mimetype": "text/x-python",
   "name": "python",
   "nbconvert_exporter": "python",
   "pygments_lexer": "ipython3",
   "version": "3.8.5"
  },
  "varInspector": {
   "cols": {
    "lenName": 16,
    "lenType": 16,
    "lenVar": 40
   },
   "kernels_config": {
    "python": {
     "delete_cmd_postfix": "",
     "delete_cmd_prefix": "del ",
     "library": "var_list.py",
     "varRefreshCmd": "print(var_dic_list())"
    },
    "r": {
     "delete_cmd_postfix": ") ",
     "delete_cmd_prefix": "rm(",
     "library": "var_list.r",
     "varRefreshCmd": "cat(var_dic_list()) "
    }
   },
   "types_to_exclude": [
    "module",
    "function",
    "builtin_function_or_method",
    "instance",
    "_Feature"
   ],
   "window_display": false
  }
 },
 "nbformat": 4,
 "nbformat_minor": 4
}
