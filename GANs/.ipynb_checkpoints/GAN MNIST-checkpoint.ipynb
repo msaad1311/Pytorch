{
 "cells": [
  {
   "cell_type": "code",
   "execution_count": 8,
   "metadata": {},
   "outputs": [],
   "source": [
    "import torch\n",
    "import torch.nn as nn\n",
    "import torch.utils.data.dataloader as Dataloader\n",
    "import torch.nn.functional as F\n",
    "from torchvision.datasets import MNIST\n",
    "import torchvision.transforms as transforms\n",
    "import numpy as np\n",
    "import time"
   ]
  },
  {
   "cell_type": "code",
   "execution_count": 14,
   "metadata": {},
   "outputs": [
    {
     "name": "stdout",
     "output_type": "stream",
     "text": [
      "cuda\n"
     ]
    }
   ],
   "source": [
    "device = 'cuda' if torch.cuda.is_available() else 'cpu'\n",
    "print(device)"
   ]
  },
  {
   "cell_type": "code",
   "execution_count": 9,
   "metadata": {},
   "outputs": [],
   "source": [
    "transforms = transforms.Compose(\n",
    "[transforms.ToTensor(),transforms.Normalize((0.5,),(0.5,))]\n",
    ")\n",
    "trainset = MNIST('../MNIST/datasets/',train=True,transform=transforms,download=True)\n",
    "testset = MNIST('../MNIST/datasets/',train=False,transform=transforms,download=True)"
   ]
  },
  {
   "cell_type": "code",
   "execution_count": 10,
   "metadata": {},
   "outputs": [
    {
     "data": {
      "text/plain": [
       "Dataset MNIST\n",
       "    Number of datapoints: 60000\n",
       "    Root location: ../MNIST/datasets/\n",
       "    Split: Train\n",
       "    StandardTransform\n",
       "Transform: Compose(\n",
       "               ToTensor()\n",
       "               Normalize(mean=(0.5,), std=(0.5,))\n",
       "           )"
      ]
     },
     "execution_count": 10,
     "metadata": {},
     "output_type": "execute_result"
    }
   ],
   "source": [
    "trainset"
   ]
  },
  {
   "cell_type": "code",
   "execution_count": 36,
   "metadata": {},
   "outputs": [],
   "source": [
    "class Discrimator(nn.Module):\n",
    "    def __init__(self):\n",
    "        super(Discrimator,self).__init__()\n",
    "        self.conv1 = nn.Conv2d(in_channels=1,out_channels=8,kernel_size=(3,3),padding=(1,1))\n",
    "        self.pool = nn.MaxPool2d(kernel_size=(2,2),stride=(2,2))\n",
    "        self.conv2 = nn.Conv2d(in_channels=8,out_channels=16,kernel_size=(3,3),padding=(1,1))\n",
    "        self.fc = nn.Linear(16*7*7,1)\n",
    "    def forward(self,x):\n",
    "        x = F.leaky_relu(self.conv1(x))\n",
    "#         print(x.shape)\n",
    "        x = self.pool(x)\n",
    "#         print(x.shape)\n",
    "        x = F.leaky_relu(self.conv2(x))\n",
    "#         print(x.shape)\n",
    "        x = self.pool(x)\n",
    "#         print(x.shape)\n",
    "        x = x.reshape(x.shape[0],-1)\n",
    "        x = self.fc(x)\n",
    "#         print(x.shape)\n",
    "        x = torch.sigmoid(x)\n",
    "        return x\n",
    "    \n",
    "class Generator(nn.Module):\n",
    "    def __init__(self,z_dims)\n",
    "        super(Generator,self).__init__()\n",
    "        "
   ]
  },
  {
   "cell_type": "code",
   "execution_count": 37,
   "metadata": {
    "scrolled": true
   },
   "outputs": [],
   "source": [
    "model = Discrimator().to(device)\n",
    "# y = torch.rand(64,1,28,28).to(device)\n",
    "# model(y)"
   ]
  },
  {
   "cell_type": "code",
   "execution_count": null,
   "metadata": {},
   "outputs": [],
   "source": []
  }
 ],
 "metadata": {
  "kernelspec": {
   "display_name": "Python 3",
   "language": "python",
   "name": "python3"
  },
  "language_info": {
   "codemirror_mode": {
    "name": "ipython",
    "version": 3
   },
   "file_extension": ".py",
   "mimetype": "text/x-python",
   "name": "python",
   "nbconvert_exporter": "python",
   "pygments_lexer": "ipython3",
   "version": "3.8.5"
  },
  "varInspector": {
   "cols": {
    "lenName": 16,
    "lenType": 16,
    "lenVar": 40
   },
   "kernels_config": {
    "python": {
     "delete_cmd_postfix": "",
     "delete_cmd_prefix": "del ",
     "library": "var_list.py",
     "varRefreshCmd": "print(var_dic_list())"
    },
    "r": {
     "delete_cmd_postfix": ") ",
     "delete_cmd_prefix": "rm(",
     "library": "var_list.r",
     "varRefreshCmd": "cat(var_dic_list()) "
    }
   },
   "types_to_exclude": [
    "module",
    "function",
    "builtin_function_or_method",
    "instance",
    "_Feature"
   ],
   "window_display": false
  }
 },
 "nbformat": 4,
 "nbformat_minor": 4
}
